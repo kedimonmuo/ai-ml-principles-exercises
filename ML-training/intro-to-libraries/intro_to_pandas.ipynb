{
  "nbformat": 4,
  "nbformat_minor": 0,
  "metadata": {
    "colab": {
      "provenance": [],
      "authorship_tag": "ABX9TyNU8EMbekezKrSU1JhQm9ad",
      "include_colab_link": true
    },
    "kernelspec": {
      "name": "python3",
      "display_name": "Python 3"
    },
    "language_info": {
      "name": "python"
    }
  },
  "cells": [
    {
      "cell_type": "markdown",
      "metadata": {
        "id": "view-in-github",
        "colab_type": "text"
      },
      "source": [
        "<a href=\"https://colab.research.google.com/github/daniel-falk/ai-ml-principles-exercises/blob/main/ML-training/intro-to-libraries/intro_to_pandas.ipynb\" target=\"_parent\"><img src=\"https://colab.research.google.com/assets/colab-badge.svg\" alt=\"Open In Colab\"/></a>"
      ]
    },
    {
      "cell_type": "markdown",
      "source": [
        "# Pandas, a library for tabular data\n",
        "`pandas` is a library that is used to handle tabular data, read and write data files, etc."
      ],
      "metadata": {
        "id": "U9oNatlh2Paf"
      }
    },
    {
      "cell_type": "code",
      "source": [
        "import pandas\n",
        "import numpy as np"
      ],
      "metadata": {
        "id": "QKylxM-rEWnd"
      },
      "execution_count": null,
      "outputs": []
    },
    {
      "cell_type": "code",
      "source": [
        "# A pandas data frame can be used to name columns with different data\n",
        "x = np.linspace(start=0, stop=2*np.pi, num=10)\n",
        "y = np.sin(x)\n",
        "\n",
        "pandas.DataFrame(\n",
        "    {\n",
        "        \"x\": x,\n",
        "        \"sin(x)\": y,\n",
        "        \"is positive\": y >= 0\n",
        "    }\n",
        ")"
      ],
      "metadata": {
        "id": "E731FlDCEcDZ"
      },
      "execution_count": null,
      "outputs": []
    },
    {
      "cell_type": "code",
      "execution_count": null,
      "metadata": {
        "id": "9rZmiVZv2Kaj"
      },
      "outputs": [],
      "source": [
        "# Pandas can also be used to read e.g. CSV data files\n",
        "\n",
        "csv_data = \"\"\"\n",
        "Name,Age,Height,Gender,Hobby\n",
        "Daniel F.,31,179,male,sailing\n",
        "Jennifer H.,41,163,female,running\n",
        "Patrik K.,19,192,male,painting  \n",
        "\"\"\""
      ]
    },
    {
      "cell_type": "code",
      "source": [
        "from io import StringIO\n",
        "\n",
        "csv_file = StringIO(csv_data)"
      ],
      "metadata": {
        "id": "F5vUiutV2amE"
      },
      "execution_count": null,
      "outputs": []
    },
    {
      "cell_type": "code",
      "source": [
        "table = pandas.read_csv(csv_file)\n",
        "table"
      ],
      "metadata": {
        "id": "QBa5i2hT3Et5"
      },
      "execution_count": null,
      "outputs": []
    },
    {
      "cell_type": "code",
      "source": [
        "table.dtypes"
      ],
      "metadata": {
        "id": "YL_d9ifU3Hkv"
      },
      "execution_count": null,
      "outputs": []
    },
    {
      "cell_type": "code",
      "source": [
        "table.head(1)"
      ],
      "metadata": {
        "id": "zb4Lj4lK3V3w"
      },
      "execution_count": null,
      "outputs": []
    },
    {
      "cell_type": "code",
      "source": [
        "table.tail(2)"
      ],
      "metadata": {
        "id": "MpGyNCcA3cVn"
      },
      "execution_count": null,
      "outputs": []
    },
    {
      "cell_type": "code",
      "source": [
        "table.sort_values(by=\"Height\")"
      ],
      "metadata": {
        "id": "VbFS5dW53inP"
      },
      "execution_count": null,
      "outputs": []
    },
    {
      "cell_type": "markdown",
      "source": [
        "# Indexing values in a data frame\n",
        "The frame (table) can be indexed by row or column to extract a smaller frame."
      ],
      "metadata": {
        "id": "OKb-38Ki4HE8"
      }
    },
    {
      "cell_type": "code",
      "source": [
        "table[[\"Name\", \"Age\"]]"
      ],
      "metadata": {
        "id": "hnYdAUhH34WP"
      },
      "execution_count": null,
      "outputs": []
    },
    {
      "cell_type": "code",
      "source": [
        "table[\"Age\"] > 20"
      ],
      "metadata": {
        "id": "Ou_5kSY946uw"
      },
      "execution_count": null,
      "outputs": []
    },
    {
      "cell_type": "code",
      "source": [
        "table[table[\"Age\"] > 20]"
      ],
      "metadata": {
        "id": "YMXAVMlv4ULl"
      },
      "execution_count": null,
      "outputs": []
    },
    {
      "cell_type": "code",
      "source": [
        "# iloc can be used the address values based on index\n",
        "table.iloc[0,0]"
      ],
      "metadata": {
        "id": "W1fC28pL4Zqx"
      },
      "execution_count": null,
      "outputs": []
    },
    {
      "cell_type": "code",
      "source": [
        "table[table[\"Hobby\"].isin([\"sailing\", \"running\"])]"
      ],
      "metadata": {
        "id": "aEoC9n6V4d2b"
      },
      "execution_count": null,
      "outputs": []
    },
    {
      "cell_type": "markdown",
      "source": [
        "# Statistics on tables\n",
        "`pandas` contains many methods to calculate statistical information about table rows and columns."
      ],
      "metadata": {
        "id": "pJHCLuWq-ocl"
      }
    },
    {
      "cell_type": "code",
      "source": [
        "table.describe()"
      ],
      "metadata": {
        "id": "-TOZKa9E3d6V"
      },
      "execution_count": null,
      "outputs": []
    },
    {
      "cell_type": "code",
      "source": [
        "table.groupby([\"Gender\"]).mean()"
      ],
      "metadata": {
        "id": "ryqqo6-7-Xfi"
      },
      "execution_count": null,
      "outputs": []
    },
    {
      "cell_type": "code",
      "source": [
        "table"
      ],
      "metadata": {
        "id": "kdiGHHGq_Z-b"
      },
      "execution_count": null,
      "outputs": []
    },
    {
      "cell_type": "code",
      "source": [
        "# Count how many unique values there are in each column\n",
        "table.apply(lambda x: len(np.unique(x))).to_frame()"
      ],
      "metadata": {
        "id": "4meKmLIkCqGx"
      },
      "execution_count": null,
      "outputs": []
    },
    {
      "cell_type": "markdown",
      "source": [
        "# Modifying the data\n",
        "The data in a frame (table) can be modified."
      ],
      "metadata": {
        "id": "ccq7Y56V6YhP"
      }
    },
    {
      "cell_type": "code",
      "source": [
        "table.loc[0, \"Name\"] = \"Anders F.\"\n",
        "table"
      ],
      "metadata": {
        "id": "DWy5Si1S4yqF"
      },
      "execution_count": null,
      "outputs": []
    },
    {
      "cell_type": "code",
      "source": [
        "# Let's assume that we know that the age of Jennifer is incorrect,\n",
        "# we don't know the true age so instead we set it to a not a number value\n",
        "table.loc[table[\"Name\"] == \"Jennifer H.\", \"Age\"] = np.nan\n",
        "table"
      ],
      "metadata": {
        "id": "9mluuOWg5ggF"
      },
      "execution_count": null,
      "outputs": []
    },
    {
      "cell_type": "code",
      "source": [
        "# Later we can deal with NaN numbers by replacing (impute) the or by\n",
        "# dropping all the rows containing NaN values\n",
        "table.dropna(inplace=True)\n",
        "table"
      ],
      "metadata": {
        "id": "LtAkEF_U5hQ8"
      },
      "execution_count": null,
      "outputs": []
    }
  ]
}
