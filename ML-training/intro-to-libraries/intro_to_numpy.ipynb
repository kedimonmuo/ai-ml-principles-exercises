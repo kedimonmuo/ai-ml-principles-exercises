{
  "nbformat": 4,
  "nbformat_minor": 0,
  "metadata": {
    "colab": {
      "provenance": [],
      "authorship_tag": "ABX9TyOqh7iDfya3otqMpwJAuP+Z",
      "include_colab_link": true
    },
    "kernelspec": {
      "name": "python3",
      "display_name": "Python 3"
    },
    "language_info": {
      "name": "python"
    }
  },
  "cells": [
    {
      "cell_type": "markdown",
      "metadata": {
        "id": "view-in-github",
        "colab_type": "text"
      },
      "source": [
        "<a href=\"https://colab.research.google.com/github/daniel-falk/ai-ml-principles-exercises/blob/main/ML-training/intro-to-libraries/intro_to_numpy.ipynb\" target=\"_parent\"><img src=\"https://colab.research.google.com/assets/colab-badge.svg\" alt=\"Open In Colab\"/></a>"
      ]
    },
    {
      "cell_type": "markdown",
      "source": [
        "# NumPy, a library for working with matrices\n",
        "`numpy` is a library used to work with matrices and matrix manipulations in python. Here are some examples on how to create arrays and multiply arrays."
      ],
      "metadata": {
        "id": "2NCLIYqbnW1M"
      }
    },
    {
      "cell_type": "code",
      "execution_count": null,
      "metadata": {
        "id": "qZS5jgbPnUXf"
      },
      "outputs": [],
      "source": [
        "import numpy as np"
      ]
    },
    {
      "cell_type": "code",
      "source": [
        "np.array([[1,2,3], [4,5,6]])"
      ],
      "metadata": {
        "id": "QXkSPkvarE4_"
      },
      "execution_count": null,
      "outputs": []
    },
    {
      "cell_type": "code",
      "source": [
        "np.zeros((3,5))"
      ],
      "metadata": {
        "id": "hOo0AYV6rJuF"
      },
      "execution_count": null,
      "outputs": []
    },
    {
      "cell_type": "code",
      "source": [
        "np.eye(3)"
      ],
      "metadata": {
        "id": "I-6YY5b5rNL1"
      },
      "execution_count": null,
      "outputs": []
    },
    {
      "cell_type": "code",
      "source": [
        "np.arange(start=5, stop=10, step=2)"
      ],
      "metadata": {
        "id": "Iy63LhTareh8"
      },
      "execution_count": null,
      "outputs": []
    },
    {
      "cell_type": "code",
      "source": [
        "np.linspace(start=1, stop=10, num=3)"
      ],
      "metadata": {
        "id": "PKUTOSMCrkZw"
      },
      "execution_count": null,
      "outputs": []
    },
    {
      "cell_type": "code",
      "source": [
        "arr = np.random.randint(0, 255, (3,5))\n",
        "arr"
      ],
      "metadata": {
        "id": "P17Sfg0CnlsO"
      },
      "execution_count": null,
      "outputs": []
    },
    {
      "cell_type": "code",
      "source": [
        "arr.shape"
      ],
      "metadata": {
        "id": "vrMeo1TYnqDC"
      },
      "execution_count": null,
      "outputs": []
    },
    {
      "cell_type": "code",
      "source": [
        "arr.T"
      ],
      "metadata": {
        "id": "_S3yxMt7nzQ9"
      },
      "execution_count": null,
      "outputs": []
    },
    {
      "cell_type": "code",
      "source": [
        "arr * 0.1"
      ],
      "metadata": {
        "id": "Z81cyAGNn4j2"
      },
      "execution_count": null,
      "outputs": []
    },
    {
      "cell_type": "code",
      "source": [
        "arr * np.array([1, 0, 0, 0, 0]).T"
      ],
      "metadata": {
        "id": "2CP20WQ7oAUq"
      },
      "execution_count": null,
      "outputs": []
    },
    {
      "cell_type": "markdown",
      "source": [
        "# Statistics\n",
        "\n",
        "`numpy` also has functions to calculate statistical measures from arrays."
      ],
      "metadata": {
        "id": "QglR1rG7ozzm"
      }
    },
    {
      "cell_type": "code",
      "source": [
        "# Calculate the mean over all values in the array\n",
        "np.mean(arr)"
      ],
      "metadata": {
        "id": "edzm-ELWoIG2"
      },
      "execution_count": null,
      "outputs": []
    },
    {
      "cell_type": "code",
      "source": [
        "# Calculate the variance of the values in the array\n",
        "np.var(arr)"
      ],
      "metadata": {
        "id": "Z1B6hfnoo9aB"
      },
      "execution_count": null,
      "outputs": []
    },
    {
      "cell_type": "code",
      "source": [
        "# Calculate the mean for each row in the matrix\n",
        "np.mean(arr, axis=1)"
      ],
      "metadata": {
        "id": "Twiuxfmlo_-w"
      },
      "execution_count": null,
      "outputs": []
    },
    {
      "cell_type": "code",
      "source": [
        "# Find the minimum and maximum values\n",
        "arr.min(), arr.max()"
      ],
      "metadata": {
        "id": "Y2QaX75RtvUB"
      },
      "execution_count": null,
      "outputs": []
    },
    {
      "cell_type": "markdown",
      "source": [
        "# Data types\n",
        "The values in the array can have multiple differnet datatypes. In difference from native types in python, the numpy types are of specific type and size. In python, there is no limit to how large number you can store in an `int`, in `numpy` it is just like C that a specific type has a specific range."
      ],
      "metadata": {
        "id": "uGT-LhLbpcKn"
      }
    },
    {
      "cell_type": "code",
      "source": [
        "arr.dtype"
      ],
      "metadata": {
        "id": "Cyr-WLhtpRU8"
      },
      "execution_count": null,
      "outputs": []
    },
    {
      "cell_type": "code",
      "source": [
        "np.array([-100, 1, 100], dtype=np.uint64)"
      ],
      "metadata": {
        "id": "56ogIR85qTrb"
      },
      "execution_count": null,
      "outputs": []
    },
    {
      "cell_type": "code",
      "source": [
        "np.array([1.5, 100.123], dtype=np.uint64)"
      ],
      "metadata": {
        "id": "sR_TKOuOqedz"
      },
      "execution_count": null,
      "outputs": []
    },
    {
      "cell_type": "code",
      "source": [
        "np.array([1.5, 100.123], dtype=np.float32)"
      ],
      "metadata": {
        "id": "SN8aofFeqmZo"
      },
      "execution_count": null,
      "outputs": []
    },
    {
      "cell_type": "code",
      "source": [
        "np.array([1.5, 100.123]).dtype"
      ],
      "metadata": {
        "id": "OSbLJaTIqpU_"
      },
      "execution_count": null,
      "outputs": []
    },
    {
      "cell_type": "code",
      "source": [
        "(np.array([1, 2, 3, 4]) / 2).dtype"
      ],
      "metadata": {
        "id": "iYUB06A8qr7e"
      },
      "execution_count": null,
      "outputs": []
    },
    {
      "cell_type": "markdown",
      "source": [
        "# Operations on matrices\n",
        "There are many operations in the `numpy` library that can be applied to matrices, such as trigometric functions."
      ],
      "metadata": {
        "id": "aiFJtMwwr1Br"
      }
    },
    {
      "cell_type": "code",
      "source": [
        "x = np.linspace(start=0, stop=2*np.pi, num=8)\n",
        "x"
      ],
      "metadata": {
        "id": "j1-b6zTxq1Ss"
      },
      "execution_count": null,
      "outputs": []
    },
    {
      "cell_type": "code",
      "source": [
        "y = np.sin(x)\n",
        "y"
      ],
      "metadata": {
        "id": "82dJ_-X_r_ft"
      },
      "execution_count": null,
      "outputs": []
    },
    {
      "cell_type": "code",
      "source": [
        "# A matrix can be binary thresholded to create a binary mask\n",
        "y > 0"
      ],
      "metadata": {
        "id": "44eYlfZhsGRI"
      },
      "execution_count": null,
      "outputs": []
    },
    {
      "cell_type": "code",
      "source": [
        "# A binary mask can be used to index the array\n",
        "y[y > 0]"
      ],
      "metadata": {
        "id": "mwHnVzlfsxPF"
      },
      "execution_count": null,
      "outputs": []
    },
    {
      "cell_type": "code",
      "source": [
        "# A single value can be indexed\n",
        "y[1]"
      ],
      "metadata": {
        "id": "paZTjfhLs4KS"
      },
      "execution_count": null,
      "outputs": []
    },
    {
      "cell_type": "code",
      "source": [
        "# A range of values can be indexed\n",
        "y[0:5]"
      ],
      "metadata": {
        "id": "D6jKn4ZRtC7V"
      },
      "execution_count": null,
      "outputs": []
    },
    {
      "cell_type": "code",
      "source": [
        "# An array can be reshaped\n",
        "y.reshape((-1, 2))"
      ],
      "metadata": {
        "id": "sfOcAENutKMB"
      },
      "execution_count": null,
      "outputs": []
    },
    {
      "cell_type": "code",
      "source": [
        "np.stack((x, y), axis=1)"
      ],
      "metadata": {
        "id": "xmB9VQewtQQG"
      },
      "execution_count": null,
      "outputs": []
    },
    {
      "cell_type": "code",
      "source": [
        "np.argmin(y)"
      ],
      "metadata": {
        "id": "A1nclTBvuKTu"
      },
      "execution_count": null,
      "outputs": []
    },
    {
      "cell_type": "code",
      "source": [
        "np.argsort(y)"
      ],
      "metadata": {
        "id": "McUZKLmEuqB-"
      },
      "execution_count": null,
      "outputs": []
    },
    {
      "cell_type": "code",
      "source": [
        "np.where(y > 0.5)"
      ],
      "metadata": {
        "id": "Zvg1QxZfutMB"
      },
      "execution_count": null,
      "outputs": []
    },
    {
      "cell_type": "markdown",
      "source": [
        "# Speed up by vectorization\n",
        "`numpy` can often significantly speed up vectorized operations, such as multiplication of each element in a vector."
      ],
      "metadata": {
        "id": "Cm0qabpZx6Tm"
      }
    },
    {
      "cell_type": "code",
      "source": [
        "TEST_VECTOR_SIZE = 1_000_000"
      ],
      "metadata": {
        "id": "bVkzu9WWXDZK"
      },
      "execution_count": null,
      "outputs": []
    },
    {
      "cell_type": "code",
      "source": [
        "py_list = range(TEST_VECTOR_SIZE)\n",
        "\n",
        "def divide_list_loop():\n",
        "  new_list = []\n",
        "  for i in py_list:\n",
        "    new_list.append(i / 2)\n",
        "  return new_list\n",
        "\n",
        "%timeit new_list = divide_list_loop()"
      ],
      "metadata": {
        "id": "JADe5xYdySKg"
      },
      "execution_count": null,
      "outputs": []
    },
    {
      "cell_type": "code",
      "source": [
        "py_list = range(TEST_VECTOR_SIZE)\n",
        "\n",
        "%timeit new_list = [i / 2 for i in py_list]"
      ],
      "metadata": {
        "id": "ZeXp5_9Gy4ou"
      },
      "execution_count": null,
      "outputs": []
    },
    {
      "cell_type": "code",
      "source": [
        "np_list = np.array(range(TEST_VECTOR_SIZE))\n",
        "\n",
        "def divide_list_np():\n",
        "  return np_list / 2\n",
        "\n",
        "%timeit new_list = divide_list_np()"
      ],
      "metadata": {
        "id": "Ky16w4ujzhqy"
      },
      "execution_count": null,
      "outputs": []
    }
  ]
}
