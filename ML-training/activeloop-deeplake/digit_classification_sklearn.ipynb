{
  "nbformat": 4,
  "nbformat_minor": 0,
  "metadata": {
    "colab": {
      "provenance": [],
      "authorship_tag": "ABX9TyO9Ja1SihFuScTukeo6ltxm",
      "include_colab_link": true
    },
    "kernelspec": {
      "name": "python3",
      "display_name": "Python 3"
    },
    "language_info": {
      "name": "python"
    }
  },
  "cells": [
    {
      "cell_type": "markdown",
      "metadata": {
        "id": "view-in-github",
        "colab_type": "text"
      },
      "source": [
        "<a href=\"https://colab.research.google.com/github/daniel-falk/ai-ml-principles-exercises/blob/main/ML-training/activeloop-deeplake/digit_classification_sklearn.ipynb\" target=\"_parent\"><img src=\"https://colab.research.google.com/assets/colab-badge.svg\" alt=\"Open In Colab\"/></a>"
      ]
    },
    {
      "cell_type": "markdown",
      "source": [
        "# Load and explore the dataset\n",
        "The dataset used in this exersice is a digit recognition dataset from the *ActiveLoop* dataset hub."
      ],
      "metadata": {
        "id": "2p3q6Nf4pmpL"
      }
    },
    {
      "cell_type": "code",
      "execution_count": null,
      "metadata": {
        "id": "gUAEmK8Q5Mlc"
      },
      "outputs": [],
      "source": [
        "!pip install deeplake\n",
        "\n",
        "import numpy as np\n",
        "import deeplake"
      ]
    },
    {
      "cell_type": "code",
      "source": [
        "ds_train = deeplake.load(\"hub://activeloop/mnist-train\")\n",
        "ds_test = deeplake.load(\"hub://activeloop/mnist-test\")"
      ],
      "metadata": {
        "id": "fM8sqZ-k5gyj"
      },
      "execution_count": null,
      "outputs": []
    },
    {
      "cell_type": "code",
      "source": [
        "ds_test.tensors.keys()"
      ],
      "metadata": {
        "id": "eTPQTViH5kb6"
      },
      "execution_count": null,
      "outputs": []
    },
    {
      "cell_type": "code",
      "source": [
        "ds_test.images.shape"
      ],
      "metadata": {
        "id": "Vamil4Z7PHL5"
      },
      "execution_count": null,
      "outputs": []
    },
    {
      "cell_type": "code",
      "source": [
        "ds_test.labels.shape"
      ],
      "metadata": {
        "id": "Udv-UQNrPQJq"
      },
      "execution_count": null,
      "outputs": []
    },
    {
      "cell_type": "code",
      "source": [
        "ds_test.labels.info"
      ],
      "metadata": {
        "id": "aRH0tE5APK--"
      },
      "execution_count": null,
      "outputs": []
    },
    {
      "cell_type": "code",
      "source": [
        "from PIL import Image\n",
        "\n",
        "i = 100\n",
        "print(ds_test.labels[i])\n",
        "Image.fromarray(ds_test.images[i].numpy(), \"L\").resize((100, 100), resample=Image.NEAREST)"
      ],
      "metadata": {
        "id": "o88OO8L05mvr"
      },
      "execution_count": null,
      "outputs": []
    },
    {
      "cell_type": "code",
      "source": [
        "# Show the maximum value in any of the first 100 image in the dataset\n",
        "np.max(ds_test.images[:100])"
      ],
      "metadata": {
        "id": "qg0S170V6Sa5"
      },
      "execution_count": null,
      "outputs": []
    },
    {
      "cell_type": "markdown",
      "source": [
        "# Train a model\n",
        "\n",
        "* Train a SVM classifier\n",
        "* Evaluate the classifier"
      ],
      "metadata": {
        "id": "x78HFg_YYtvq"
      }
    },
    {
      "cell_type": "code",
      "source": [
        "# Randomly select 10k images to use for training\n",
        "train_idx = np.random.choice(range(len(ds_train)), replace=False, size=10_000)"
      ],
      "metadata": {
        "id": "IY8_STY-QgOa"
      },
      "execution_count": null,
      "outputs": []
    },
    {
      "cell_type": "code",
      "source": [
        "# Prefetch the datasets to RAM and reshape to flatten the images\n",
        "# Note that we could index the training samples using train_idx before\n",
        "# calling the numpy() method to download them, this would cause us to only\n",
        "# download the images we are actually going to use. In this particular case\n",
        "# where the images are tiny it is however faster to first download the full\n",
        "# dataset and then slice it, this is due to the chunking of downloads in deeplake.\n",
        "X_train = ds_train.images.numpy().reshape((len(ds_train), -1))[train_idx]\n",
        "X_test = ds_test.images.numpy().reshape((len(ds_test), -1))\n",
        "y_train = ds_train.labels[train_idx.tolist()].numpy().flatten()\n",
        "y_test = ds_test.labels.numpy().flatten()"
      ],
      "metadata": {
        "id": "lkBmWdZEZKp2"
      },
      "execution_count": null,
      "outputs": []
    },
    {
      "cell_type": "code",
      "source": [
        "from sklearn import svm"
      ],
      "metadata": {
        "id": "IONxkf3sao8t"
      },
      "execution_count": null,
      "outputs": []
    },
    {
      "cell_type": "code",
      "source": [
        "model = svm.SVC()\n",
        "model.fit(X_train, y_train)"
      ],
      "metadata": {
        "id": "dqxw46YMa_nj"
      },
      "execution_count": null,
      "outputs": []
    },
    {
      "cell_type": "code",
      "source": [
        "# Predict the first ten samples from the test dataset\n",
        "model.predict(X_test[0:10])"
      ],
      "metadata": {
        "id": "Nrsjx9ambWBz"
      },
      "execution_count": null,
      "outputs": []
    },
    {
      "cell_type": "code",
      "source": [
        "# Show the first ten ground truth values from the test dataset\n",
        "y_test[0:10]"
      ],
      "metadata": {
        "id": "bipSKzEZbfD3"
      },
      "execution_count": null,
      "outputs": []
    },
    {
      "cell_type": "code",
      "source": [
        "# Compare predicted and true\n",
        "model.predict(X_test[0:10]) == y_test[0:10]"
      ],
      "metadata": {
        "id": "XLDZx1R2qgz5"
      },
      "execution_count": null,
      "outputs": []
    },
    {
      "cell_type": "code",
      "source": [
        "from sklearn import metrics\n",
        "\n",
        "predicted = model.predict(X_test)\n",
        "print(metrics.classification_report(y_test, predicted))"
      ],
      "metadata": {
        "id": "mcoqRsjRbmHW"
      },
      "execution_count": null,
      "outputs": []
    },
    {
      "cell_type": "code",
      "source": [
        "metrics.ConfusionMatrixDisplay.from_predictions(y_test, predicted)"
      ],
      "metadata": {
        "id": "bjyeYWMUcGuD"
      },
      "execution_count": null,
      "outputs": []
    }
  ]
}
